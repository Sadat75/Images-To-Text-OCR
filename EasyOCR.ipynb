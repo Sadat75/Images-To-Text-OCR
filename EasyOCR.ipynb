{
 "cells": [
  {
   "cell_type": "code",
   "execution_count": null,
   "id": "0f07dcfc",
   "metadata": {},
   "outputs": [],
   "source": [
    "# https://github.com/JaidedAI/EasyOCR"
   ]
  },
  {
   "cell_type": "code",
   "execution_count": null,
   "id": "0e973d2e",
   "metadata": {},
   "outputs": [],
   "source": [
    "# https://github.com/bnsreenu/python_for_microscopists/blob/master/Tips_Tricks_14_easyocr_to_detect_text_in_images.py"
   ]
  },
  {
   "cell_type": "code",
   "execution_count": null,
   "id": "7645995b",
   "metadata": {},
   "outputs": [],
   "source": [
    "import easyocr"
   ]
  },
  {
   "cell_type": "code",
   "execution_count": null,
   "id": "9c38009f",
   "metadata": {},
   "outputs": [],
   "source": [
    "import cv2"
   ]
  },
  {
   "cell_type": "code",
   "execution_count": null,
   "id": "c12b425f",
   "metadata": {},
   "outputs": [],
   "source": [
    "reader = easyocr.Reader(['hi', 'en'], gpu=False)"
   ]
  },
  {
   "cell_type": "code",
   "execution_count": null,
   "id": "d8730e68",
   "metadata": {},
   "outputs": [],
   "source": [
    "img = cv2.imread(\"Pune.jpg\")"
   ]
  },
  {
   "cell_type": "code",
   "execution_count": null,
   "id": "bb88b053",
   "metadata": {},
   "outputs": [],
   "source": [
    "results = reader.readtext(img, detail=1, paragraph=False)"
   ]
  },
  {
   "cell_type": "code",
   "execution_count": null,
   "id": "c07edae3",
   "metadata": {
    "scrolled": true
   },
   "outputs": [],
   "source": [
    "results"
   ]
  },
  {
   "cell_type": "code",
   "execution_count": null,
   "id": "5a3c99d4",
   "metadata": {},
   "outputs": [],
   "source": [
    "#To display the text on the original image or show bounding boxes\n",
    "#we need the coordinates for the text. So make sure the detail=1 above, readtext.\n",
    "# display the OCR'd text and associated probability\n",
    "\n",
    "for (bbox, text, prob) in results:\n",
    "    \n",
    "    #Define bounding boxes\n",
    "    (tl, tr, br, bl) = bbox\n",
    "    tl = (int(tl[0]), int(tl[1]))\n",
    "    tr = (int(tr[0]), int(tr[1]))\n",
    "    br = (int(br[0]), int(br[1]))\n",
    "    bl = (int(bl[0]), int(bl[1]))\n",
    "    \n",
    "    #Remove non-ASCII characters to display clean text on the image (using opencv)\n",
    "    text = \"\".join([c if ord(c) < 128 else \"\" for c in text]).strip()\n",
    "   \n",
    "    #Put rectangles and text on the image\n",
    "    cv2.rectangle(img, tl, br, (0, 255, 0), 2)\n",
    "    cv2.putText(img, text, (tl[0], tl[1] - 10), \n",
    "                cv2.FONT_HERSHEY_SIMPLEX, 0.8, (0, 255, 0), 2)\n",
    "# show the output image\n",
    "cv2.imshow(\"Image\", img)\n",
    "cv2.waitKey(0)"
   ]
  },
  {
   "cell_type": "code",
   "execution_count": null,
   "id": "5d168d37",
   "metadata": {},
   "outputs": [],
   "source": []
  }
 ],
 "metadata": {
  "kernelspec": {
   "display_name": "Python 3",
   "language": "python",
   "name": "python3"
  },
  "language_info": {
   "codemirror_mode": {
    "name": "ipython",
    "version": 3
   },
   "file_extension": ".py",
   "mimetype": "text/x-python",
   "name": "python",
   "nbconvert_exporter": "python",
   "pygments_lexer": "ipython3",
   "version": "3.9.4"
  }
 },
 "nbformat": 4,
 "nbformat_minor": 5
}
